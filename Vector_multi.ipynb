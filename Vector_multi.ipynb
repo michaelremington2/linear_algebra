{
 "cells": [
  {
   "cell_type": "code",
   "execution_count": 2,
   "metadata": {},
   "outputs": [],
   "source": [
    "# 4 ways to multiply a pair of vectors\n",
    "## dot product\n",
    "## outer product\n",
    "## element-wise multiplacation\n",
    "## cross-product\n",
    "import numpy as np\n",
    "import matplotlib.pyplot as plt\n",
    "import math as m"
   ]
  },
  {
   "cell_type": "code",
   "execution_count": 3,
   "metadata": {},
   "outputs": [
    {
     "name": "stdout",
     "output_type": "stream",
     "text": [
      "70\n",
      "70\n",
      "30\n",
      "5.477225575051661\n"
     ]
    }
   ],
   "source": [
    "# dot product\n",
    "# multiplication of all elements then summed\n",
    "# 1*5 + 2*6 + 3*7 + 4*8\n",
    "# 5 + 12 + 21 + 32 = 70\n",
    "# The dot product is a single number that contains information on the relationship between 2 vectors\n",
    "# 2 vectors -> scaler\n",
    "# vectors must have same dimensionality\n",
    "v1 = np.array([1,2,3,4])\n",
    "v2 = np.array([5,6,7,8])\n",
    "print(np.dot(v1,v2))\n",
    "print(np.dot(v2,v1)) \n",
    "print(np.dot(v1,v1)) # ||a||^2 \n",
    "print(m.sqrt(np.dot(v1,v1))) # ||a|| magnitude, length, norm of the vector"
   ]
  },
  {
   "cell_type": "code",
   "execution_count": null,
   "metadata": {},
   "outputs": [],
   "source": []
  }
 ],
 "metadata": {
  "kernelspec": {
   "display_name": "Python 3",
   "language": "python",
   "name": "python3"
  },
  "language_info": {
   "codemirror_mode": {
    "name": "ipython",
    "version": 3
   },
   "file_extension": ".py",
   "mimetype": "text/x-python",
   "name": "python",
   "nbconvert_exporter": "python",
   "pygments_lexer": "ipython3",
   "version": "3.8.5"
  }
 },
 "nbformat": 4,
 "nbformat_minor": 4
}
