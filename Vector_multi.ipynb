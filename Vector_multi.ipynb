{
 "cells": [
  {
   "cell_type": "code",
   "execution_count": 2,
   "metadata": {},
   "outputs": [],
   "source": [
    "# 4 ways to multiply a pair of vectors\n",
    "## dot product\n",
    "## outer product\n",
    "## element-wise multiplacation\n",
    "## cross-product\n",
    "import numpy as np\n",
    "import matplotlib.pyplot as plt\n",
    "import math as m"
   ]
  },
  {
   "cell_type": "code",
   "execution_count": 3,
   "metadata": {},
   "outputs": [
    {
     "name": "stdout",
     "output_type": "stream",
     "text": [
      "70\n",
      "70\n",
      "30\n",
      "5.477225575051661\n"
     ]
    }
   ],
   "source": [
    "# dot product\n",
    "# multiplication of all elements then summed\n",
    "# 1*5 + 2*6 + 3*7 + 4*8\n",
    "# 5 + 12 + 21 + 32 = 70\n",
    "# The dot product is a single number that contains information on the relationship between 2 vectors\n",
    "# 2 vectors -> scaler\n",
    "# vectors must have same dimensionality\n",
    "v1 = np.array([1,2,3,4])\n",
    "v2 = np.array([5,6,7,8])\n",
    "print(np.dot(v1,v2))\n",
    "print(np.dot(v2,v1)) \n",
    "print(np.dot(v1,v1)) # ||a||^2 \n",
    "print(m.sqrt(np.dot(v1,v1))) # ||a|| magnitude, length, norm of the vector"
   ]
  },
  {
   "cell_type": "code",
   "execution_count": 3,
   "metadata": {},
   "outputs": [
    {
     "name": "stdout",
     "output_type": "stream",
     "text": [
      "[ -7  -4 -13]\n"
     ]
    }
   ],
   "source": [
    "# Linear weighted combination\n",
    "# scaler-vector multiplication and addition\n",
    "l1 = 1\n",
    "l2 = 2\n",
    "l3 = -3\n",
    "v1 = np.array([4,5,1])\n",
    "v2 = np.array([-4,0,-4])\n",
    "v3 = np.array([1,3,2])\n",
    "print(l1*v1+l2*v2+l3*v3)"
   ]
  },
  {
   "cell_type": "code",
   "execution_count": 7,
   "metadata": {},
   "outputs": [
    {
     "name": "stdout",
     "output_type": "stream",
     "text": [
      "[[ 8  2  0  4]\n",
      " [20  5  0 10]\n",
      " [16  4  0  8]\n",
      " [28  7  0 14]]\n"
     ]
    }
   ],
   "source": [
    "# Outer product\n",
    "\n",
    "# Dot product: v^tW = 1x1 (Scaler)\n",
    "# outer product: v*W^t = mxn\n",
    "# used in eigen decomposition, singular value decomposition, image compression\n",
    "# vectors do not need to be the same size in this case\n",
    "v1 = np.array([2,5,4,7])\n",
    "v2 = np.array([4,1,0,2])\n",
    "op = np.outer(v1,v2)\n",
    "print(op)"
   ]
  },
  {
   "cell_type": "code",
   "execution_count": 8,
   "metadata": {},
   "outputs": [
    {
     "name": "stdout",
     "output_type": "stream",
     "text": [
      "[ 8  5  0 14]\n"
     ]
    }
   ],
   "source": [
    "# Element wise (Hadamard) vector product\n",
    "\n",
    "# vectors need to be the same size in this case\n",
    "# just a straight up multiplacation. Not , many theoretical uses in linear algebra\n",
    "v1 = np.array([2,5,4,7])\n",
    "v2 = np.array([4,1,0,2])\n",
    "print(v1*v2)"
   ]
  },
  {
   "cell_type": "code",
   "execution_count": 25,
   "metadata": {},
   "outputs": [
    {
     "name": "stdout",
     "output_type": "stream",
     "text": [
      "[0. 1.]\n",
      "[0.20628425 0.51571062 0.4125685  0.72199487]\n"
     ]
    }
   ],
   "source": [
    "# Unit Vector\n",
    "\n",
    "# Vector with a length of 1 ||V|| = 1\n",
    "# helps avoid numerical innacuracies for vectors with small magnitudes\n",
    "# help create special kind of matrix called an orthoginal matrix.\n",
    "# find a scaler that makes ||uv|| = 1, |u3| = 1 u = 1/3\n",
    "# vhat = (1/||v||)*v --> (1/sqrt(sum1_to_N(v_i^2)))v\n",
    "\n",
    "b = np.array([0,2])\n",
    "bhat = (1/m.sqrt(sum([i**2 for i in b])))*b\n",
    "print(bhat)\n",
    "\n",
    "v = np.array([2,5,4,7])\n",
    "vMAG = np.linalg.norm(v)\n",
    "vhat = v / vMAG\n",
    "print(vhat)"
   ]
  },
  {
   "cell_type": "code",
   "execution_count": null,
   "metadata": {},
   "outputs": [],
   "source": []
  },
  {
   "cell_type": "code",
   "execution_count": null,
   "metadata": {},
   "outputs": [],
   "source": []
  }
 ],
 "metadata": {
  "kernelspec": {
   "display_name": "Python 3",
   "language": "python",
   "name": "python3"
  },
  "language_info": {
   "codemirror_mode": {
    "name": "ipython",
    "version": 3
   },
   "file_extension": ".py",
   "mimetype": "text/x-python",
   "name": "python",
   "nbconvert_exporter": "python",
   "pygments_lexer": "ipython3",
   "version": "3.8.5"
  }
 },
 "nbformat": 4,
 "nbformat_minor": 4
}
